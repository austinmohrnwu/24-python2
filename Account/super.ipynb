{
 "cells": [
  {
   "cell_type": "code",
   "execution_count": 2,
   "metadata": {},
   "outputs": [],
   "source": [
    "# The super() command accesses the superclass of the class you're currently defining.\n",
    "# This command is useful when you want a subclass to have all the attributes of its\n",
    "# superclass and then some.\n",
    "\n",
    "class Ball:\n",
    "    '''\n",
    "    Represents a ball (with no location in space).\n",
    "\n",
    "    attributes: radius (int or float)\n",
    "    '''\n",
    "\n",
    "    def __init__(self, input_radius):\n",
    "\n",
    "        if not isinstance(input_radius, (int, float)):\n",
    "            raise TypeError('radius must be an int or float')\n",
    "        elif input_radius < 0:\n",
    "            raise ValueError('radius must be nonnegative')\n",
    "        else:\n",
    "            self.radius = input_radius\n",
    "\n",
    "class ColoredBall(Ball):\n",
    "    '''\n",
    "    Represents a ball (with no location in space) but this one has a color too.\n",
    "    \n",
    "    attributes: radius (int or float, inherited from Ball), color (string)\n",
    "    '''\n",
    "\n",
    "    def __init__(self, input_radius, input_color):\n",
    "\n",
    "        super().__init__(input_radius) # sets up the radius with associated typechecking\n",
    "\n",
    "        # Now add on the color\n",
    "        if not isinstance(input_color, str):\n",
    "            raise TypeError('color must be a string')\n",
    "        else:\n",
    "            self.color = input_color\n"
   ]
  },
  {
   "cell_type": "code",
   "execution_count": 4,
   "metadata": {},
   "outputs": [
    {
     "name": "stdout",
     "output_type": "stream",
     "text": [
      "10\n"
     ]
    }
   ],
   "source": [
    "ten_ball = Ball(10)\n",
    "print(ten_ball.radius)"
   ]
  },
  {
   "cell_type": "code",
   "execution_count": 6,
   "metadata": {},
   "outputs": [
    {
     "ename": "TypeError",
     "evalue": "radius must be an int or float",
     "output_type": "error",
     "traceback": [
      "\u001b[0;31m---------------------------------------------------------------------------\u001b[0m",
      "\u001b[0;31mTypeError\u001b[0m                                 Traceback (most recent call last)",
      "Cell \u001b[0;32mIn[6], line 1\u001b[0m\n\u001b[0;32m----> 1\u001b[0m red_ball \u001b[38;5;241m=\u001b[39m \u001b[43mColoredBall\u001b[49m\u001b[43m(\u001b[49m\u001b[38;5;124;43m'\u001b[39;49m\u001b[38;5;124;43mten\u001b[39;49m\u001b[38;5;124;43m'\u001b[39;49m\u001b[43m,\u001b[49m\u001b[43m \u001b[49m\u001b[38;5;124;43m'\u001b[39;49m\u001b[38;5;124;43mred\u001b[39;49m\u001b[38;5;124;43m'\u001b[39;49m\u001b[43m)\u001b[49m\n\u001b[1;32m      2\u001b[0m \u001b[38;5;28mprint\u001b[39m(red_ball\u001b[38;5;241m.\u001b[39mradius)\n\u001b[1;32m      3\u001b[0m \u001b[38;5;28mprint\u001b[39m(red_ball\u001b[38;5;241m.\u001b[39mcolor)\n",
      "Cell \u001b[0;32mIn[2], line 30\u001b[0m, in \u001b[0;36mColoredBall.__init__\u001b[0;34m(self, input_radius, input_color)\u001b[0m\n\u001b[1;32m     28\u001b[0m \u001b[38;5;28;01mdef\u001b[39;00m \u001b[38;5;21m__init__\u001b[39m(\u001b[38;5;28mself\u001b[39m, input_radius, input_color):\n\u001b[0;32m---> 30\u001b[0m     \u001b[38;5;28;43msuper\u001b[39;49m\u001b[43m(\u001b[49m\u001b[43m)\u001b[49m\u001b[38;5;241;43m.\u001b[39;49m\u001b[38;5;21;43m__init__\u001b[39;49m\u001b[43m(\u001b[49m\u001b[43minput_radius\u001b[49m\u001b[43m)\u001b[49m \u001b[38;5;66;03m# sets up the radius with associated typechecking\u001b[39;00m\n\u001b[1;32m     32\u001b[0m     \u001b[38;5;66;03m# Now add on the color\u001b[39;00m\n\u001b[1;32m     33\u001b[0m     \u001b[38;5;28;01mif\u001b[39;00m \u001b[38;5;129;01mnot\u001b[39;00m \u001b[38;5;28misinstance\u001b[39m(input_color, \u001b[38;5;28mstr\u001b[39m):\n",
      "Cell \u001b[0;32mIn[2], line 15\u001b[0m, in \u001b[0;36mBall.__init__\u001b[0;34m(self, input_radius)\u001b[0m\n\u001b[1;32m     12\u001b[0m \u001b[38;5;28;01mdef\u001b[39;00m \u001b[38;5;21m__init__\u001b[39m(\u001b[38;5;28mself\u001b[39m, input_radius):\n\u001b[1;32m     14\u001b[0m     \u001b[38;5;28;01mif\u001b[39;00m \u001b[38;5;129;01mnot\u001b[39;00m \u001b[38;5;28misinstance\u001b[39m(input_radius, (\u001b[38;5;28mint\u001b[39m, \u001b[38;5;28mfloat\u001b[39m)):\n\u001b[0;32m---> 15\u001b[0m         \u001b[38;5;28;01mraise\u001b[39;00m \u001b[38;5;167;01mTypeError\u001b[39;00m(\u001b[38;5;124m'\u001b[39m\u001b[38;5;124mradius must be an int or float\u001b[39m\u001b[38;5;124m'\u001b[39m)\n\u001b[1;32m     16\u001b[0m     \u001b[38;5;28;01melif\u001b[39;00m input_radius \u001b[38;5;241m<\u001b[39m \u001b[38;5;241m0\u001b[39m:\n\u001b[1;32m     17\u001b[0m         \u001b[38;5;28;01mraise\u001b[39;00m \u001b[38;5;167;01mValueError\u001b[39;00m(\u001b[38;5;124m'\u001b[39m\u001b[38;5;124mradius must be nonnegative\u001b[39m\u001b[38;5;124m'\u001b[39m)\n",
      "\u001b[0;31mTypeError\u001b[0m: radius must be an int or float"
     ]
    }
   ],
   "source": [
    "red_ball = ColoredBall('ten', 'red')\n",
    "print(red_ball.radius)\n",
    "print(red_ball.color)"
   ]
  },
  {
   "cell_type": "code",
   "execution_count": null,
   "metadata": {},
   "outputs": [],
   "source": []
  }
 ],
 "metadata": {
  "kernelspec": {
   "display_name": "Python 3",
   "language": "python",
   "name": "python3"
  },
  "language_info": {
   "codemirror_mode": {
    "name": "ipython",
    "version": 3
   },
   "file_extension": ".py",
   "mimetype": "text/x-python",
   "name": "python",
   "nbconvert_exporter": "python",
   "pygments_lexer": "ipython3",
   "version": "3.10.13"
  }
 },
 "nbformat": 4,
 "nbformat_minor": 2
}
