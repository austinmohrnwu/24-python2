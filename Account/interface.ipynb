{
 "cells": [
  {
   "cell_type": "code",
   "execution_count": 4,
   "metadata": {},
   "outputs": [
    {
     "name": "stdout",
     "output_type": "stream",
     "text": [
      "Select an option:\n",
      "1: Get a half-hearted compliment.\n",
      "2: Get a random number.\n",
      "3: Open a file.\n",
      "9: Exit.\n",
      "\n",
      "Enter file address:\n",
      "Invalid file address. Please try again.\n",
      "Select an option:\n",
      "1: Get a half-hearted compliment.\n",
      "2: Get a random number.\n",
      "3: Open a file.\n",
      "9: Exit.\n",
      "\n",
      "Shutting down...\n"
     ]
    }
   ],
   "source": [
    "def compliment():\n",
    "\n",
    "    print('Enter your name:', flush=True)\n",
    "    name = input() # You can ask for additional input within a function.\n",
    "    print(f'{name} is most likely a decent person.', flush=True)\n",
    "    print(flush=True) # prints a blank line for better formatting\n",
    "\n",
    "\n",
    "\n",
    "def random_number():\n",
    "\n",
    "    import random\n",
    "\n",
    "    print(f'Your random number is {random.randint(1,10)}.', flush=True)\n",
    "    print(flush=True) # prints a blank line for better formatting\n",
    "\n",
    "\n",
    "def openfile():\n",
    "\n",
    "    print(f'Enter file address:', flush=True)\n",
    "    file_add = input()\n",
    "    \n",
    "    try:\n",
    "        read_file = open(file_add)\n",
    "        print(f'File successfully opened.')\n",
    "    \n",
    "    except: # If the user gave an invalid address, prompt them again by calling the openfile function again.\n",
    "        print(f'Invalid file address. Please try again.')\n",
    "        openfile()\n",
    "\n",
    "\n",
    "\n",
    "def interface():\n",
    "\n",
    "    choice = ''\n",
    "    while choice != '9':\n",
    "\n",
    "        # Print the interface options\n",
    "        print('Select an option:', flush=True)\n",
    "        print(\"1: Get a half-hearted compliment.\", flush=True)\n",
    "        print(\"2: Get a random number.\", flush=True)\n",
    "        print(\"3: Open a file.\", flush=True)\n",
    "        print(\"9: Exit.\", flush=True)\n",
    "        print(flush=True) # prints a blank line for better formatting\n",
    "\n",
    "        # Collect user input\n",
    "        choice = input()\n",
    "    \n",
    "        if choice == '1':\n",
    "            compliment()\n",
    "        elif choice == '2':\n",
    "            random_number()\n",
    "        elif choice == '3':\n",
    "            openfile()\n",
    "        elif choice == '9':\n",
    "            print(\"Shutting down...\", flush=True)\n",
    "        else:\n",
    "            print(\"Please select an actual option.\", flush=True)\n",
    "\n",
    "interface()"
   ]
  },
  {
   "cell_type": "code",
   "execution_count": null,
   "metadata": {},
   "outputs": [],
   "source": []
  },
  {
   "cell_type": "code",
   "execution_count": null,
   "metadata": {},
   "outputs": [],
   "source": []
  }
 ],
 "metadata": {
  "kernelspec": {
   "display_name": "Python 3",
   "language": "python",
   "name": "python3"
  },
  "language_info": {
   "codemirror_mode": {
    "name": "ipython",
    "version": 3
   },
   "file_extension": ".py",
   "mimetype": "text/x-python",
   "name": "python",
   "nbconvert_exporter": "python",
   "pygments_lexer": "ipython3",
   "version": "3.10.13"
  }
 },
 "nbformat": 4,
 "nbformat_minor": 2
}
