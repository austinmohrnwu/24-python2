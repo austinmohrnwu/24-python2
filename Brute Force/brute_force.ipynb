{
 "cells": [
  {
   "cell_type": "code",
   "execution_count": 1,
   "metadata": {},
   "outputs": [],
   "source": [
    "def pythagorean_triples_dumb():\n",
    "    \"\"\"\n",
    "    Prints the Pythagorean triples such that a + b + c == 1000\n",
    "    :return: None.\n",
    "    \"\"\"\n",
    "    # GENERATE all candidate triples (a, b, c) with a triple for loop\n",
    "    for a in range(1, 1000):\n",
    "        for b in range(1, 1000):\n",
    "            for c in range(1, 1000):\n",
    "\n",
    "                # TEST whether the candidate triple is indeed a solution\n",
    "                if a + b + c == 1000 and a**2 + b**2 == c**2:\n",
    "                    print(a, b, c)"
   ]
  },
  {
   "cell_type": "code",
   "execution_count": 2,
   "metadata": {},
   "outputs": [
    {
     "name": "stdout",
     "output_type": "stream",
     "text": [
      "Slow implementation:\n",
      "200 375 425\n",
      "375 200 425\n"
     ]
    }
   ],
   "source": [
    "print(\"Slow implementation:\")\n",
    "pythagorean_triples_dumb()"
   ]
  },
  {
   "cell_type": "code",
   "execution_count": 3,
   "metadata": {},
   "outputs": [],
   "source": [
    "def pythagorean_triples():\n",
    "    \"\"\"\n",
    "    Prints the Pythagorean triples such that a + b + c == 1000\n",
    "    :return: None.\n",
    "    \"\"\"\n",
    "\n",
    "    # GENERATE all candidate a and b values, taking into consideration\n",
    "    # that addition is commutative.\n",
    "    for a in range(1, 1000):\n",
    "        for b in range(a, 1000): # ensures a <= b\n",
    "\n",
    "            # GENERATE the only possible value of c that corresponds to the\n",
    "            # current choices of a and b.\n",
    "            c = 1000 - a - b\n",
    "\n",
    "            # TEST whether the candidate triple is indeed a solution\n",
    "            if a**2 + b**2 == c**2:\n",
    "                print(a, b, c)"
   ]
  },
  {
   "cell_type": "code",
   "execution_count": 4,
   "metadata": {},
   "outputs": [
    {
     "name": "stdout",
     "output_type": "stream",
     "text": [
      "Faster implementation:\n",
      "200 375 425\n"
     ]
    }
   ],
   "source": [
    "print(\"Faster implementation:\")\n",
    "pythagorean_triples()"
   ]
  },
  {
   "cell_type": "code",
   "execution_count": null,
   "metadata": {},
   "outputs": [],
   "source": []
  }
 ],
 "metadata": {
  "kernelspec": {
   "display_name": "Python 3",
   "language": "python",
   "name": "python3"
  },
  "language_info": {
   "codemirror_mode": {
    "name": "ipython",
    "version": 3
   },
   "file_extension": ".py",
   "mimetype": "text/x-python",
   "name": "python",
   "nbconvert_exporter": "python",
   "pygments_lexer": "ipython3",
   "version": "3.10.13"
  }
 },
 "nbformat": 4,
 "nbformat_minor": 2
}
