{
 "cells": [
  {
   "cell_type": "code",
   "execution_count": null,
   "metadata": {},
   "outputs": [],
   "source": [
    "all_perms = list() # global list used to hold all permutations\n",
    "\n",
    "def generate_permutations(partial_perm, remaining_chars):\n",
    "    \"\"\"\n",
    "    Recursive backtracking algorithm to generate all permutations.\n",
    "    Initial call is generate_permutations([], all_chars), where all_chars represents the set of all characters\n",
    "    to be permuted.\n",
    "\n",
    "    :param partial_perm: list containing the initial characters of the permutation in a fixed order\n",
    "    :param remaining_chars: list containing all remaining characters not yet included in the permutation\n",
    "    :return:\n",
    "    \"\"\"\n",
    "    # Permutation found\n",
    "    if len(remaining_chars) == 0:\n",
    "        global all_perms\n",
    "        all_perms.append(partial_perm)\n",
    "\n",
    "\n",
    "        # Printing to the screen just for instructional purposes\n",
    "        print('Permutation Found:', partial_perm)\n",
    "        print()\n",
    "\n",
    "\n",
    "    # Otherwise, make a recursive call appending each unused character to partial_perm\n",
    "    else:\n",
    "        for char in remaining_chars:  # loop over all possible choices\n",
    "            print('partial_perm:', partial_perm)\n",
    "            print('remaining_chars:', remaining_chars)\n",
    "            print()\n",
    "\n",
    "            # Make copies of the data structures to pass to the recursive call\n",
    "            partial_perm_copy = partial_perm.copy()\n",
    "            partial_perm_copy.append(char)\n",
    "\n",
    "            remaining_chars_copy = remaining_chars.copy()\n",
    "            remaining_chars_copy.remove(char)\n",
    "\n",
    "            generate_permutations(partial_perm_copy, remaining_chars_copy)"
   ]
  },
  {
   "cell_type": "code",
   "execution_count": null,
   "metadata": {},
   "outputs": [],
   "source": [
    "generate_permutations([], ['a', 'b', 'c', 'd'])\n",
    "print(all_perms)"
   ]
  }
 ],
 "metadata": {
  "language_info": {
   "name": "python"
  }
 },
 "nbformat": 4,
 "nbformat_minor": 2
}
