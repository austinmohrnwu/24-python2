{
 "cells": [
  {
   "cell_type": "code",
   "execution_count": 9,
   "metadata": {},
   "outputs": [],
   "source": [
    "# Notice the attributes of Point aren't even defined within the class,\n",
    "# but we can still set and get them with the . operator.\n",
    "# We will see how to define the attributes of a class more fully in later examples.\n",
    "class Point:\n",
    "    '''\n",
    "    Represents a point in 2D space\n",
    "\n",
    "    attributes: x, y\n",
    "    '''\n",
    "\n",
    "\n",
    "# One purpose of classes is to bundle together (encapsulate) related data so it can be\n",
    "# reused in other classes/functions.\n",
    "class Rectangle:\n",
    "    '''\n",
    "    Represents a rectangle with lower left corner at corner.\n",
    "\n",
    "    attributes: corner (Point object), height (float), width (float)\n",
    "    '''\n",
    "\n",
    "\n",
    "# Here is a function that expects an object as input.\n",
    "def dist_from_origin(inputPoint):\n",
    "    '''\n",
    "\n",
    "    :param inputPoint: Point object\n",
    "    :return: Distance between inputPoint and origin (0, 0)\n",
    "    '''\n",
    "\n",
    "    import math\n",
    "\n",
    "    x_coord = inputPoint.x\n",
    "    y_coord = inputPoint.y\n",
    "    dist = math.sqrt((inputPoint.x) ** 2 + (inputPoint.y) ** 2)\n",
    "    return dist\n",
    "\n",
    "\n",
    "\n",
    "def get_center_Point(inputRect):\n",
    "    '''\n",
    "\n",
    "    :param inputRect: Rectangle object\n",
    "    :return: Point object corresponding to the center of inputRect\n",
    "    '''\n",
    "\n",
    "    centerPoint = Point()\n",
    "    centerPoint.x = inputRect.corner.x + inputRect.width / 2\n",
    "    centerPoint.y = inputRect.corner.y + inputRect.height / 2\n",
    "    return centerPoint"
   ]
  },
  {
   "cell_type": "code",
   "execution_count": 2,
   "metadata": {},
   "outputs": [],
   "source": [
    "# Instantiating some Point objects\n",
    "\n",
    "exPoint = Point()   # Instantiate a Point object\n",
    "exPoint.x = 5.0     # Set x attribute\n",
    "exPoint.y = 10.0    # Set y attribute\n",
    "\n",
    "exPoint2 = Point()   # Instantiate a Point object\n",
    "exPoint2.x = 25.0     # Set x attribute\n",
    "exPoint2.y = 100.0    # Set y attribute"
   ]
  },
  {
   "cell_type": "code",
   "execution_count": 3,
   "metadata": {},
   "outputs": [
    {
     "name": "stdout",
     "output_type": "stream",
     "text": [
      "<__main__.Point object at 0x7f5b442d1750>\n",
      "<__main__.Point object at 0x7f5b442d16f0>\n",
      "exPoint is located at (5.0, 10.0).\n",
      "exPoint2 is located at (25.0, 100.0).\n"
     ]
    }
   ],
   "source": [
    "# Printing an object directly results in unhelpful information\n",
    "# (the fact that it is a Point object and its location in memory)\n",
    "# We will have a way to give more useful string representations later.\n",
    "print(exPoint)\n",
    "print(exPoint2)\n",
    "\n",
    "print(f'exPoint is located at ({exPoint.x}, {exPoint.y}).')\n",
    "print(f'exPoint2 is located at ({exPoint2.x}, {exPoint2.y}).')"
   ]
  },
  {
   "cell_type": "code",
   "execution_count": 4,
   "metadata": {},
   "outputs": [
    {
     "name": "stdout",
     "output_type": "stream",
     "text": [
      "The color of this point is red.\n"
     ]
    }
   ],
   "source": [
    "# You can make up attributes on the fly, but this is bad practice.\n",
    "# Objects should be self-contained with all their attributes described in the docstring.\n",
    "exPoint.color = 'red'\n",
    "print(f'The color of this point is {exPoint.color}.')"
   ]
  },
  {
   "cell_type": "code",
   "execution_count": 10,
   "metadata": {},
   "outputs": [
    {
     "name": "stdout",
     "output_type": "stream",
     "text": [
      "The center of this rectangle is at (1.0, 1.5).\n"
     ]
    }
   ],
   "source": [
    "# Instantiating a Rectangle object.\n",
    "\n",
    "box = Rectangle()       # Instantiate a Rectangle object\n",
    "p = Point()             # Instantiate a new Point object (to use as the corner)\n",
    "p.x = 0                 # Set the x-coord of p\n",
    "p.y = 0                 # Set the y-coord of p\n",
    "box.corner = p          # Set the corner of box to be p\n",
    "box.height = 3.0        # Set the height of box\n",
    "box.width = 2.0         # Set the width of box\n",
    "\n",
    "# Center is a Point object\n",
    "center = get_center_Point(box)\n",
    "print(f'The center of this rectangle is at ({center.x}, {center.y}).')"
   ]
  },
  {
   "cell_type": "code",
   "execution_count": 6,
   "metadata": {},
   "outputs": [
    {
     "name": "stdout",
     "output_type": "stream",
     "text": [
      "50 0\n",
      "50 0\n"
     ]
    }
   ],
   "source": [
    "# Be careful about accidentally aliasing objects.\n",
    "# Python does not create a new copy when you only use the = operator.\n",
    "pointA = Point()\n",
    "pointA.x = 5\n",
    "pointA.y = 0\n",
    "\n",
    "# The x and y of pointB will overwrite the values already stored in pointA\n",
    "# because pointA and pointB are aliases for the same data in memory.\n",
    "pointB = pointA\n",
    "pointB.x = 50\n",
    "\n",
    "print(pointA.x ,pointA.y)\n",
    "print(pointB.x, pointB.y)"
   ]
  },
  {
   "cell_type": "code",
   "execution_count": 8,
   "metadata": {},
   "outputs": [
    {
     "name": "stdout",
     "output_type": "stream",
     "text": [
      "5 0\n",
      "50 0\n"
     ]
    }
   ],
   "source": [
    "# Use the copy function from the copy library to make true copies of objects\n",
    "import copy # import the copy library\n",
    "\n",
    "pointA = Point()\n",
    "pointA.x = 5\n",
    "pointA.y = 0\n",
    "\n",
    "pointB = copy.copy(pointA) # make a copy of pointA\n",
    "pointB.x = 50\n",
    "\n",
    "print(pointA.x, pointA.y)\n",
    "print(pointB.x, pointB.y)"
   ]
  },
  {
   "cell_type": "code",
   "execution_count": null,
   "metadata": {},
   "outputs": [],
   "source": []
  }
 ],
 "metadata": {
  "kernelspec": {
   "display_name": "Python 3",
   "language": "python",
   "name": "python3"
  },
  "language_info": {
   "codemirror_mode": {
    "name": "ipython",
    "version": 3
   },
   "file_extension": ".py",
   "mimetype": "text/x-python",
   "name": "python",
   "nbconvert_exporter": "python",
   "pygments_lexer": "ipython3",
   "version": "3.10.13"
  }
 },
 "nbformat": 4,
 "nbformat_minor": 2
}
