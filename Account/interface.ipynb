{
 "cells": [
  {
   "cell_type": "code",
   "execution_count": 1,
   "metadata": {},
   "outputs": [
    {
     "name": "stdout",
     "output_type": "stream",
     "text": [
      "Select an option:\n",
      "1: Get a half-hearted compliment.\n",
      "2: Get a random number.\n",
      "9: Exit.\n",
      "\n",
      "Your random number is 2.\n",
      "\n",
      "Select an option:\n",
      "1: Get a half-hearted compliment.\n",
      "2: Get a random number.\n",
      "9: Exit.\n",
      "\n",
      "Enter your name:\n",
      "Austin is most likely a decent person.\n",
      "\n",
      "Select an option:\n",
      "1: Get a half-hearted compliment.\n",
      "2: Get a random number.\n",
      "9: Exit.\n",
      "\n",
      "Shutting down...\n"
     ]
    }
   ],
   "source": [
    "def compliment():\n",
    "\n",
    "    print('Enter your name:', flush=True)\n",
    "    name = input() # You can ask for additional input within a function.\n",
    "    print(f'{name} is most likely a decent person.', flush=True)\n",
    "    print(flush=True) # prints a blank line for better formatting\n",
    "\n",
    "\n",
    "\n",
    "def random_number():\n",
    "\n",
    "    import random\n",
    "\n",
    "    print(f'Your random number is {random.randint(1,10)}.', flush=True)\n",
    "    print(flush=True) # prints a blank line for better formatting\n",
    "\n",
    "\n",
    "\n",
    "def interface():\n",
    "\n",
    "    choice = ''\n",
    "    while choice != '9':\n",
    "\n",
    "        # Print the interface options\n",
    "        print('Select an option:', flush=True)\n",
    "        print(\"1: Get a half-hearted compliment.\", flush=True)\n",
    "        print(\"2: Get a random number.\", flush=True)\n",
    "        print(\"9: Exit.\", flush=True)\n",
    "        print(flush=True) # prints a blank line for better formatting\n",
    "\n",
    "        # Collect user input\n",
    "        choice = input()\n",
    "    \n",
    "        if choice == '1':\n",
    "            compliment()\n",
    "        elif choice == '2':\n",
    "            random_number()\n",
    "        elif choice == '9':\n",
    "            print(\"Shutting down...\", flush=True)\n",
    "        else:\n",
    "            print(\"Please select an actual option.\", flush=True)\n",
    "\n",
    "interface()"
   ]
  },
  {
   "cell_type": "code",
   "execution_count": null,
   "metadata": {},
   "outputs": [],
   "source": []
  },
  {
   "cell_type": "code",
   "execution_count": null,
   "metadata": {},
   "outputs": [],
   "source": []
  }
 ],
 "metadata": {
  "kernelspec": {
   "display_name": "Python 3",
   "language": "python",
   "name": "python3"
  },
  "language_info": {
   "codemirror_mode": {
    "name": "ipython",
    "version": 3
   },
   "file_extension": ".py",
   "mimetype": "text/x-python",
   "name": "python",
   "nbconvert_exporter": "python",
   "pygments_lexer": "ipython3",
   "version": "3.10.13"
  }
 },
 "nbformat": 4,
 "nbformat_minor": 2
}
