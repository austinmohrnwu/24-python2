{
 "cells": [
  {
   "cell_type": "markdown",
   "metadata": {},
   "source": [
    "AWESOMESORT\n",
    "INPUT: list of integers (call it arr)\n",
    "OUTPUT: arr sorted in ascending order\n",
    "\n",
    "IF arr contains 0 or 1 elements\n",
    "    return arr\n",
    "ELSE\n",
    "    pivot = pop first element of arr\n",
    "    WHILE arr nonempty\n",
    "        entry = pop first element of arr\n",
    "        IF entry is smaller than pivot\n",
    "            put entry in array small_arr\n",
    "        ELSE\n",
    "            put entry in big_arr\n",
    "    RETURN concatenation of AWESOMESORT(small_arr), pivot, and AWESOMESORT(big_arr)"
   ]
  },
  {
   "cell_type": "code",
   "execution_count": null,
   "metadata": {},
   "outputs": [],
   "source": [
    "def awesomesort(arr):\n",
    "    \"\"\"\n",
    "    A strictly worse (but more understandable) version of quicksort.\n",
    "    Input array is not modified.\n",
    "\n",
    "    :param arr: list of integers\n",
    "    :return: copy of arr sorted in ascending order\n",
    "    \"\"\"\n",
    "\n",
    "    arr_copy = arr.copy() # start by making a copy of arr so as not to modify the input\n",
    "\n",
    "    # Base case: If the array has length at most 1, then it is already sorted.\n",
    "    if len(arr_copy) <= 1:\n",
    "        return arr_copy\n",
    "\n",
    "    # Recursive case:\n",
    "    else:\n",
    "        pivot = arr_copy.pop(0) # arbitrarily pop the first element of arr as the pivot\n",
    "\n",
    "        # Move all array entries that are smaller than pivot into small_arr\n",
    "        # and all entries that are larger than pivot into big_arr\n",
    "        small_arr = list()\n",
    "        big_arr = list()\n",
    "\n",
    "        while arr_copy: # while array is not empty\n",
    "            entry = arr_copy.pop(0)\n",
    "            if entry < pivot:\n",
    "                small_arr.append(entry)\n",
    "            else:\n",
    "                big_arr.append(entry)\n",
    "\n",
    "        # The array will be sorted once I recursively sort both small_arr and big_arr and concatenate\n",
    "        # them in the order small_arr, pivot, then big_arr.\n",
    "        return awesomesort(small_arr) + [pivot] + awesomesort(big_arr)"
   ]
  },
  {
   "cell_type": "code",
   "execution_count": null,
   "metadata": {},
   "outputs": [],
   "source": [
    "test_arr = [9, 1, 2, 5, 3, 1, 6, 7, 8, 4, 4]\n",
    "print('Original Array:', test_arr) # original input array is preserved\n",
    "print('Sorted Array:', awesomesort(test_arr))"
   ]
  }
 ],
 "metadata": {
  "kernelspec": {
   "display_name": "Python 3",
   "language": "python",
   "name": "python3"
  },
  "language_info": {
   "name": "python",
   "version": "3.10.13"
  }
 },
 "nbformat": 4,
 "nbformat_minor": 2
}
