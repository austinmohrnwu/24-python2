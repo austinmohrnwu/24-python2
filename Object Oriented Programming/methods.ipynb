{
 "cells": [
  {
   "cell_type": "code",
   "execution_count": 8,
   "metadata": {},
   "outputs": [],
   "source": [
    "class Point:\n",
    "    '''\n",
    "    Represents a point in 2D space\n",
    "\n",
    "    attributes: x, y\n",
    "    '''\n",
    "\n",
    "\n",
    "    # The __init__ method allows you to specify the attributes at the time of object instantiation.\n",
    "    # Every method should have self as its first parameter, which refers to the calling object.\n",
    "    # The attributes are set to default to 0 if no arguments are provided.\n",
    "    def __init__(self, input_x = 0, input_y = 0):\n",
    "        self.x = input_x\n",
    "        self.y = input_y\n",
    "\n",
    "\n",
    "    # The __str__ method allows you to specify how an object should be treated when printed.\n",
    "    def __str__(self):\n",
    "        return f'({self.x}, {self.y})'  # f-string format\n",
    "\n",
    "\n",
    "    # An example of operator overloading (redefining the functionality of a built-in Python\n",
    "    # function).\n",
    "    def __eq__(self, other):\n",
    "\n",
    "        if self.x == other.x and self.y == other.y:\n",
    "            return True\n",
    "        else:\n",
    "            return False\n",
    "\n",
    "\n",
    "\n",
    "    def __lt__(self, other):\n",
    "        '''\n",
    "        We will define one point to be less than another if it is lesser lexicographically.\n",
    "        '''\n",
    "        if self.x < other.x:\n",
    "            return True\n",
    "        elif self.x == other.x and self.y < other.y:\n",
    "            return True\n",
    "        else:\n",
    "            return False\n",
    "\n",
    "    # See http://docs.python.org/3/reference/datamodel.html#specialnames for other Python\n",
    "    # operators that can be overloaded.\n",
    "\n",
    "\n",
    "class Rectangle:\n",
    "    '''\n",
    "    Represents a rectangle.\n",
    "\n",
    "    attributes: corner (Point object), height (float), width (float)\n",
    "    '''\n",
    "\n",
    "\n",
    "    def __init__(self, input_point = Point(), input_width = 0,  input_height = 0):\n",
    "        self.corner = input_point\n",
    "        self.width = input_width\n",
    "        self.height = input_height\n",
    "\n",
    "\n",
    "    def __str__(self):\n",
    "        return f'Corner: {self.corner}, Width: {self.width}, Height: {self.height}'\n",
    "\n",
    "\n",
    "    def get_center_Point(self):\n",
    "        '''\n",
    "\n",
    "        :param self: Rectangle object\n",
    "        :return: Point object specifying center of Rectangle\n",
    "        '''\n",
    "\n",
    "        center_x = self.corner.x + self.width / 2\n",
    "        center_y = self.corner.y + self.height / 2\n",
    "        return Point(center_x, center_y)"
   ]
  },
  {
   "cell_type": "code",
   "execution_count": 9,
   "metadata": {},
   "outputs": [
    {
     "name": "stdout",
     "output_type": "stream",
     "text": [
      "(0, 0)\n",
      "(5.0, -2.0)\n",
      "True\n",
      "False\n",
      "False\n",
      "True\n"
     ]
    }
   ],
   "source": [
    "point1 = Point()            # Instantiate a Point object with default attributes\n",
    "point2 = Point(5.0, -2.0)   # Instantiate a Point object with specified attributes\n",
    "point3 = Point(0, -5.0)\n",
    "point4 = Point(0, -5.0)\n",
    "print(point1)               # Overloading __str__ allows us to print Point objects\n",
    "print(point2)\n",
    "print(point1 < point2)      # Overloading < allows us to compare Point objects\n",
    "print(point1 == point2)     # Overloading == allows us to compare Point objects\n",
    "print(point1 < point3)\n",
    "print(point3 == point4)"
   ]
  },
  {
   "cell_type": "code",
   "execution_count": 12,
   "metadata": {},
   "outputs": [
    {
     "name": "stdout",
     "output_type": "stream",
     "text": [
      "Corner: (1, 2), Width: 4.0, Height: 6.0\n",
      "(3.0, 5.0)\n"
     ]
    }
   ],
   "source": [
    "rect = Rectangle(Point(1,2), 4.0, 6.0)  # Instantiate a Rectangle object with specified attributes\n",
    "print(rect)                             # Overloading __str__ allows us to print Rectangle objects\n",
    "\n",
    "center = rect.get_center_Point()        # Use dot syntax to call methods (the same way you access attributes)\n",
    "print(center)"
   ]
  },
  {
   "cell_type": "code",
   "execution_count": 13,
   "metadata": {},
   "outputs": [
    {
     "ename": "NameError",
     "evalue": "name 'get_center_Point' is not defined",
     "output_type": "error",
     "traceback": [
      "\u001b[0;31m---------------------------------------------------------------------------\u001b[0m",
      "\u001b[0;31mNameError\u001b[0m                                 Traceback (most recent call last)",
      "Cell \u001b[0;32mIn[13], line 1\u001b[0m\n\u001b[0;32m----> 1\u001b[0m \u001b[43mget_center_Point\u001b[49m(rect)                  \u001b[38;5;66;03m# This is the incorrect syntax because methods belong to the objects (as opposed to functions that stand on their own)\u001b[39;00m\n",
      "\u001b[0;31mNameError\u001b[0m: name 'get_center_Point' is not defined"
     ]
    }
   ],
   "source": [
    "get_center_Point(rect)                  # This is the incorrect syntax because methods belong to the objects (as opposed to functions that stand on their own)"
   ]
  },
  {
   "cell_type": "code",
   "execution_count": null,
   "metadata": {},
   "outputs": [],
   "source": []
  }
 ],
 "metadata": {
  "kernelspec": {
   "display_name": "Python 3",
   "language": "python",
   "name": "python3"
  },
  "language_info": {
   "codemirror_mode": {
    "name": "ipython",
    "version": 3
   },
   "file_extension": ".py",
   "mimetype": "text/x-python",
   "name": "python",
   "nbconvert_exporter": "python",
   "pygments_lexer": "ipython3",
   "version": "3.10.13"
  }
 },
 "nbformat": 4,
 "nbformat_minor": 2
}
