{
 "cells": [
  {
   "cell_type": "code",
   "execution_count": 15,
   "metadata": {},
   "outputs": [],
   "source": [
    "# The super() command accesses the superclass of the class you're currently defining.\n",
    "# This command is useful when you want a subclass to have all the attributes of its\n",
    "# superclass and then some.\n",
    "\n",
    "class Ball:\n",
    "    '''\n",
    "    Represents a ball (with no location in space).\n",
    "\n",
    "    attributes: radius (int or float)\n",
    "    '''\n",
    "\n",
    "    def __init__(self, input_radius):\n",
    "\n",
    "        if not isinstance(input_radius, (int, float)):\n",
    "            raise TypeError('radius must be an int or float')\n",
    "        elif input_radius < 0:\n",
    "            raise ValueError('radius must be nonnegative')\n",
    "        else:\n",
    "            self.radius = input_radius\n",
    "\n",
    "class ColoredBall(Ball):\n",
    "    '''\n",
    "    Represents a ball (with no location in space) but this one has a color too.\n",
    "    \n",
    "    attributes: radius (int or float, inherited from Ball), color (string)\n",
    "    '''\n",
    "\n",
    "    def __init__(self, input_radius, input_color):\n",
    "\n",
    "        super().__init__(input_radius) # sets up the radius with associated typechecking\n",
    "\n",
    "        # Now add on the color\n",
    "        if not isinstance(input_color, str):\n",
    "            raise TypeError('color must be a string')\n",
    "        else:\n",
    "            self.color = input_color\n"
   ]
  },
  {
   "cell_type": "code",
   "execution_count": 16,
   "metadata": {},
   "outputs": [
    {
     "name": "stdout",
     "output_type": "stream",
     "text": [
      "10\n",
      "red\n"
     ]
    }
   ],
   "source": [
    "red_ball = ColoredBall(10, 'red')\n",
    "print(red_ball.radius)\n",
    "print(red_ball.color)"
   ]
  },
  {
   "cell_type": "code",
   "execution_count": null,
   "metadata": {},
   "outputs": [],
   "source": []
  }
 ],
 "metadata": {
  "kernelspec": {
   "display_name": "Python 3",
   "language": "python",
   "name": "python3"
  },
  "language_info": {
   "codemirror_mode": {
    "name": "ipython",
    "version": 3
   },
   "file_extension": ".py",
   "mimetype": "text/x-python",
   "name": "python",
   "nbconvert_exporter": "python",
   "pygments_lexer": "ipython3",
   "version": "3.10.13"
  }
 },
 "nbformat": 4,
 "nbformat_minor": 2
}
