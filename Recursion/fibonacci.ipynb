{
 "cells": [
  {
   "cell_type": "code",
   "execution_count": null,
   "metadata": {},
   "outputs": [],
   "source": [
    "def fibonacci(n):\n",
    "    \"\"\"\n",
    "    Computes the nth Fibonacci number using (top-down) recursion.\n",
    "    The recurrence relation is fibonacci(n) =  fibonacci(n - 1) + fibonacci(n - 2).\n",
    "    The base cases are fibonacci(1) = 1 and fibonacci(2) = 1.\n",
    "\n",
    "    :param n: integer n\n",
    "    :return: the nth Fibonacci number\n",
    "    \"\"\"\n",
    "\n",
    "    # Base cases\n",
    "    if n == 1:\n",
    "        return 1\n",
    "    elif n == 2:\n",
    "        return 1\n",
    "\n",
    "    # Recursive case\n",
    "    else:\n",
    "        return fibonacci(n - 1) + fibonacci(n - 2)\n",
    "\n",
    "#print(fibonacci(8))"
   ]
  },
  {
   "cell_type": "code",
   "execution_count": null,
   "metadata": {},
   "outputs": [],
   "source": [
    "# Need a global dictionary to store known values\n",
    "# The memo is initialized with base cases.\n",
    "known_fib_numbers = {1: 1, 2: 1}\n",
    "\n",
    "def fibonacci_memo(n):\n",
    "    \"\"\"\n",
    "    Computes the nth Fibonacci number using (top-down) recursion.\n",
    "    Results are globally memoized to greatly improve efficiency.\n",
    "    The recurrence relation is fibonacci(n) =  fibonacci(n - 1) + fibonacci(n - 2).\n",
    "    The base cases are fibonacci(1) = 1 and fibonacci(2) = 1.\n",
    "\n",
    "    :param n: integer n\n",
    "    :return: the nth Fibonacci number\n",
    "    \"\"\"\n",
    "\n",
    "    global known_fib_numbers # gives function access to the global scope dictionary\n",
    "\n",
    "    # All previously computed cases (including base cases) are now handled by the dictionary of known values\n",
    "    if n in known_fib_numbers:\n",
    "        return known_fib_numbers[n]\n",
    "\n",
    "    # Recursive case\n",
    "    else:\n",
    "        fib_n = fibonacci_memo(n - 1) + fibonacci_memo(n - 2)\n",
    "\n",
    "        # Update the dictionary of known values before returning\n",
    "        known_fib_numbers[n] = fib_n\n",
    "        return fib_n\n",
    "\n",
    "# print(fibonacci_memo(10))"
   ]
  },
  {
   "cell_type": "code",
   "execution_count": null,
   "metadata": {},
   "outputs": [],
   "source": [
    "# Example of checking whether a data type is empty in Python\n",
    "known = {1:1}\n",
    "\n",
    "if known: # known evaluates to true if there is something in it\n",
    "    print('dict is not empty')\n",
    "else: # known evaluates to false if there is nothing in it\n",
    "    print('dict is empty')"
   ]
  }
 ],
 "metadata": {
  "language_info": {
   "name": "python"
  }
 },
 "nbformat": 4,
 "nbformat_minor": 2
}
