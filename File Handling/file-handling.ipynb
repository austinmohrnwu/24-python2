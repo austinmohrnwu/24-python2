{
 "cells": [
  {
   "cell_type": "code",
   "execution_count": null,
   "metadata": {},
   "outputs": [],
   "source": [
    "def file_demo(search_char):\n",
    "    \"\"\"Demonstrates opening, reading from, and writing to files\n",
    "\n",
    "    :param search_char: character to search for in each word\n",
    "    :return: None (writes all words ending in search_char to file)\n",
    "    \"\"\"\n",
    "\n",
    "    try:\n",
    "        read_file = open('words.txt')\n",
    "    except:\n",
    "        print('Cannot open input file.')\n",
    "\n",
    "    try:\n",
    "        write_file = open('output.txt', 'w') # 'w' creates a new file\n",
    "    except:\n",
    "        print('Cannot open output file.')\n",
    "\n",
    "    for line in read_file: # loops over each line in the file\n",
    "\n",
    "        # Strip off all whitespace (in this case, the newline character)\n",
    "        line = line.strip()\n",
    "\n",
    "        # If line ends with search_char, then print to file\n",
    "        # Manually reattach the newline character so we get one string per line\n",
    "        if line[-1] == search_char: # line[-1] is always '\\n'\n",
    "            write_file.writelines(line + '\\n')\n",
    "            \n",
    "    read_file.close()\n",
    "    write_file.close()"
   ]
  },
  {
   "cell_type": "code",
   "execution_count": null,
   "metadata": {},
   "outputs": [],
   "source": [
    "file_demo('r')"
   ]
  }
 ],
 "metadata": {
  "language_info": {
   "name": "python"
  }
 },
 "nbformat": 4,
 "nbformat_minor": 2
}
